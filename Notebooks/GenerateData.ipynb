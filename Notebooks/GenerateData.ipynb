{
 "cells": [
  {
   "cell_type": "code",
   "execution_count": 29,
   "metadata": {},
   "outputs": [],
   "source": [
    "import numpy as np\n",
    "import pandas as pd\n",
    "\n",
    "import random\n",
    "\n",
    "from preprocessing_utlis import normalize"
   ]
  },
  {
   "cell_type": "markdown",
   "metadata": {},
   "source": [
    "# Load data and Generate Full Names"
   ]
  },
  {
   "cell_type": "code",
   "execution_count": 14,
   "metadata": {},
   "outputs": [
    {
     "name": "stdout",
     "output_type": "stream",
     "text": [
      "2586\n"
     ]
    }
   ],
   "source": [
    "# read data\n",
    "with open(\"./Names web dataset/all_males.txt\", \"r\", encoding='utf-8') as f:\n",
    "    mnames = np.array(f.read().splitlines(), dtype=object)\n",
    "\n",
    "with open(\"./Names web dataset/all_females.txt\", \"r\", encoding='utf-8') as f:\n",
    "    fnames = np.array(f.read().splitlines(), dtype=object)\n",
    "\n",
    "full_names = []\n",
    "\n",
    "# generate for every name in the list 3 full name\n",
    "for name in mnames:\n",
    "  full_name = name + ' ' + np.random.choice(mnames, 3, replace=False)\n",
    "  full_name = full_name + ' ' + np.random.choice(mnames, 3, replace=False)\n",
    "  full_names.extend(full_name)\n",
    "\n",
    "# same for females\n",
    "for name in fnames:\n",
    "  full_name = name + ' ' + np.random.choice(mnames, 3, replace=False)\n",
    "  full_name = full_name + ' ' + np.random.choice(mnames, 3, replace=False)\n",
    "  full_names.extend(full_name)\n",
    "\n",
    "print(len(full_names))\n"
   ]
  },
  {
   "cell_type": "markdown",
   "metadata": {},
   "source": [
    "# Generate Fake Data"
   ]
  },
  {
   "cell_type": "code",
   "execution_count": 13,
   "metadata": {},
   "outputs": [
    {
     "name": "stdout",
     "output_type": "stream",
     "text": [
      "2586\n"
     ]
    }
   ],
   "source": [
    "# all arabic chars to generate data from\n",
    "chars = ['ؤ', 'د', 'ك', 'ى', 'س', 'ش', 'ن', 'ي', 'ب', 'ص', 'ظ', 'ف', 'غ', 'ق', 'ر', 'خ', 'ض', 'و', 'ئ', 'ز', 'ع', 'إ', 'ط', 'آ', 'ج', 'ه', 'ت', 'ة', 'ح', 'ء', 'ث', 'ذ', 'م', 'ا', 'أ', 'ل']\n",
    "\n",
    "incorrect_names = []\n",
    "\n",
    "# generate full names with random chars where every name can be of length 4 or 5 or 6\n",
    "for i in range(len(full_names)):\n",
    "  full_name = ''.join(random.sample(chars, random.randint(4,6))) + ' '\n",
    "  full_name = full_name + ''.join(random.sample(chars, random.randint(4,6))) + ' '\n",
    "  full_name = full_name + ''.join(random.sample(chars, random.randint(4,6)))\n",
    "  incorrect_names.append(full_name)\n",
    "\n",
    "print(len(incorrect_names))"
   ]
  },
  {
   "cell_type": "code",
   "execution_count": 24,
   "metadata": {},
   "outputs": [],
   "source": [
    "df = pd.DataFrame(full_names, columns=['Names'])\n",
    "df['label'] = 1\n",
    "\n",
    "fake_df = pd.DataFrame(incorrect_names, columns =['Names'])\n",
    "fake_df['label'] = 0\n",
    "fake_df\n",
    "\n",
    "df3 = pd.concat([df, fake_df], ignore_index=True)"
   ]
  },
  {
   "cell_type": "markdown",
   "metadata": {},
   "source": [
    "# Data preprocessing"
   ]
  },
  {
   "cell_type": "code",
   "execution_count": 34,
   "metadata": {},
   "outputs": [
    {
     "data": {
      "text/html": [
       "<div>\n",
       "<style scoped>\n",
       "    .dataframe tbody tr th:only-of-type {\n",
       "        vertical-align: middle;\n",
       "    }\n",
       "\n",
       "    .dataframe tbody tr th {\n",
       "        vertical-align: top;\n",
       "    }\n",
       "\n",
       "    .dataframe thead th {\n",
       "        text-align: right;\n",
       "    }\n",
       "</style>\n",
       "<table border=\"1\" class=\"dataframe\">\n",
       "  <thead>\n",
       "    <tr style=\"text-align: right;\">\n",
       "      <th></th>\n",
       "      <th>Names</th>\n",
       "      <th>label</th>\n",
       "      <th>clean_tweet</th>\n",
       "    </tr>\n",
       "  </thead>\n",
       "  <tbody>\n",
       "    <tr>\n",
       "      <th>61</th>\n",
       "      <td>أيوب جمعة راجي</td>\n",
       "      <td>1</td>\n",
       "      <td>اىوب جمعه راجى</td>\n",
       "    </tr>\n",
       "    <tr>\n",
       "      <th>48</th>\n",
       "      <td>أنس فارس غيد</td>\n",
       "      <td>1</td>\n",
       "      <td>انس فارس غىد</td>\n",
       "    </tr>\n",
       "    <tr>\n",
       "      <th>1782</th>\n",
       "      <td>رؤى ظافر جمعة</td>\n",
       "      <td>1</td>\n",
       "      <td>رؤى ظافر جمعه</td>\n",
       "    </tr>\n",
       "    <tr>\n",
       "      <th>1970</th>\n",
       "      <td>زهية عبدالباسط جرير</td>\n",
       "      <td>1</td>\n",
       "      <td>زهىه عبدالباسط جرىر</td>\n",
       "    </tr>\n",
       "    <tr>\n",
       "      <th>3289</th>\n",
       "      <td>ذأثزخم زهوطب ءظاح</td>\n",
       "      <td>0</td>\n",
       "      <td>ذاثزخم زهوطب ءظاح</td>\n",
       "    </tr>\n",
       "  </tbody>\n",
       "</table>\n",
       "</div>"
      ],
      "text/plain": [
       "                    Names  label          clean_tweet\n",
       "61         أيوب جمعة راجي      1       اىوب جمعه راجى\n",
       "48           أنس فارس غيد      1         انس فارس غىد\n",
       "1782        رؤى ظافر جمعة      1        رؤى ظافر جمعه\n",
       "1970  زهية عبدالباسط جرير      1  زهىه عبدالباسط جرىر\n",
       "3289    ذأثزخم زهوطب ءظاح      0    ذاثزخم زهوطب ءظاح"
      ]
     },
     "execution_count": 34,
     "metadata": {},
     "output_type": "execute_result"
    }
   ],
   "source": [
    "df3['clean_tweet'] = df3['Names'].apply(lambda x:normalize(x))\n",
    "df3.sample(5)"
   ]
  },
  {
   "cell_type": "code",
   "execution_count": 37,
   "metadata": {},
   "outputs": [],
   "source": [
    "df3.to_csv('./Names web dataset/all_data_clean.csv', index=False)"
   ]
  }
 ],
 "metadata": {
  "kernelspec": {
   "display_name": "Python 3.8.6 ('venv': venv)",
   "language": "python",
   "name": "python3"
  },
  "language_info": {
   "codemirror_mode": {
    "name": "ipython",
    "version": 3
   },
   "file_extension": ".py",
   "mimetype": "text/x-python",
   "name": "python",
   "nbconvert_exporter": "python",
   "pygments_lexer": "ipython3",
   "version": "3.8.6"
  },
  "orig_nbformat": 4,
  "vscode": {
   "interpreter": {
    "hash": "c2a43ac65bee716d097253c4c6830512c8998ddb7bca5639cb1bc715f5e041c7"
   }
  }
 },
 "nbformat": 4,
 "nbformat_minor": 2
}
